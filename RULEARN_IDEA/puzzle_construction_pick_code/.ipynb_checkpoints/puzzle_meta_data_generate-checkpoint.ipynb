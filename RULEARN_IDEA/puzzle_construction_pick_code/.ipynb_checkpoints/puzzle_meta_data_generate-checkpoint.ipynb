{
 "cells": [
  {
   "cell_type": "code",
   "execution_count": 1,
   "id": "07aa4128",
   "metadata": {},
   "outputs": [],
   "source": [
    "# generate and human pick valid puzzle mete data\n",
    "import random\n",
    "from tqdm.notebook import tqdm\n",
    "from all_puzzle_settings import *"
   ]
  },
  {
   "cell_type": "markdown",
   "id": "f8827754",
   "metadata": {},
   "source": [
    "# Function operator puzzle"
   ]
  },
  {
   "cell_type": "code",
   "execution_count": 2,
   "id": "99ebf1ab",
   "metadata": {},
   "outputs": [],
   "source": [
    "def check_repeated_elementary_function(term):\n",
    "    terms = term.split('+')\n",
    "    check_all_constant_count = 0\n",
    "    for single_term in terms:\n",
    "        check_all_constant_count += len(single_term)\n",
    "    if check_all_constant_count == len(terms):\n",
    "        return False\n",
    "    cleaned_terms = []\n",
    "    for tem_term in terms:\n",
    "        term_split = tem_term.split('*')\n",
    "        if len(term_split) == 1:\n",
    "            cleaned_terms.append(term_split[0])\n",
    "        else:\n",
    "            cleaned_terms.append(term_split[1])\n",
    "    return len(set(cleaned_terms)) == len(cleaned_terms) # return false if have repeatation in this function\n",
    "    \n",
    "def generate_random_function(num_function,term_per_function,number_of_elementary_function,num_unknown_parameter,random_seed = None):\n",
    "    if random_seed is not None:\n",
    "        random.seed(random_seed)\n",
    "    elementary_function_list = ['x^0','x','|x|','-x','1/x','sin(x)','x^2']\n",
    "    parameter_list = list(range(1,10))\n",
    "    # num_function = 3\n",
    "    # term_per_function = 2\n",
    "    # number_of_elementary_function = 2\n",
    "    # num_unknown_parameter = 4\n",
    "    total_num_terms = int(num_function*term_per_function)\n",
    "    assert total_num_terms == num_function*term_per_function, f'''changed the terms'''\n",
    "    assert num_unknown_parameter <= 10,f'''Num parameter should less than 10'''\n",
    "    assert num_unknown_parameter <= total_num_terms,f'''Num parameters should less than total num of terms'''\n",
    "    assert 2*num_unknown_parameter >= total_num_terms,f'''2*Num of parameters should more than total number of terms'''\n",
    "\n",
    "    sample_elementart_functions = random.sample(elementary_function_list, number_of_elementary_function)\n",
    "    sample_parameters = random.sample(parameter_list,num_unknown_parameter)\n",
    "\n",
    "    if total_num_terms >= len(sample_parameters):\n",
    "        all_parameters = random.sample(sample_parameters, len(sample_parameters))\n",
    "        all_parameters.extend(random.sample(sample_parameters, total_num_terms - len(sample_parameters)))\n",
    "    else:\n",
    "        assert False, f'''total number of terms should be more than num of unknown parameters'''\n",
    "\n",
    "    all_elementary_functions = []\n",
    "    while len(all_elementary_functions) < total_num_terms:\n",
    "        all_elementary_functions.extend(random.sample(sample_elementart_functions, len(sample_elementart_functions)))\n",
    "\n",
    "    all_elementary_functions = all_elementary_functions[:total_num_terms]\n",
    "    functions = []\n",
    "    drop_this_random_seed = False # check if each function have same elementary functions in different terms\n",
    "    if num_function == 1:\n",
    "        cur_function = []\n",
    "        for item in zip(all_parameters, all_elementary_functions):\n",
    "            cur_parameter = item[0]\n",
    "            cur_elementary_function = item[1]\n",
    "            if cur_elementary_function == 'x^0':\n",
    "                cur_term = str(cur_parameter)\n",
    "            else:\n",
    "                cur_term = str(cur_parameter) + '*' +cur_elementary_function\n",
    "            cur_function.append(cur_term)\n",
    "        functions.append('+'.join(cur_function))\n",
    "    else:\n",
    "        function_count_index = random.sample(list(range(total_num_terms-1)), num_function-1) # split into segments\n",
    "        function_count_index.sort()\n",
    "        cur_function = []\n",
    "        cur_index_count = 0\n",
    "        for item in zip(all_parameters, all_elementary_functions):\n",
    "            cur_parameter = item[0]\n",
    "            cur_elementary_function = item[1]\n",
    "            if cur_elementary_function == 'x^0':\n",
    "                cur_term = str(cur_parameter)\n",
    "            else:\n",
    "                cur_term = str(cur_parameter) + '*' +cur_elementary_function\n",
    "            cur_function.append(cur_term)\n",
    "            if cur_index_count in function_count_index:\n",
    "                functions.append('+'.join(cur_function))\n",
    "                cur_function = []\n",
    "            cur_index_count += 1 \n",
    "            \n",
    "        functions.append('+'.join(cur_function))\n",
    "        \n",
    "    for tem_function in functions:\n",
    "        drop_this_random_seed = drop_this_random_seed or not check_repeated_elementary_function(tem_function)\n",
    "    if drop_this_random_seed:\n",
    "        return None\n",
    "    else:\n",
    "        return functions, sample_parameters, sample_elementart_functions\n"
   ]
  },
  {
   "cell_type": "code",
   "execution_count": 3,
   "id": "c56e5fd2",
   "metadata": {},
   "outputs": [
    {
     "name": "stdout",
     "output_type": "stream",
     "text": [
      "Currently there are 20 unique function combinations\n"
     ]
    },
    {
     "data": {
      "text/plain": [
       "{frozenset({'2*x+4', '2*x^2+7*x+9', '9*sin(x)'}),\n",
       " frozenset({'1*sin(x)+2*1/x', '2*x^2+3*1/x', '3'}),\n",
       " frozenset({'1*x'}),\n",
       " frozenset({'3*x+2', '4*sin(x)+2*1/x+3', '4*x^2'}),\n",
       " frozenset({'6*sin(x)+9*x^2', '9'}),\n",
       " frozenset({'1*sin(x)+5*x', '1*|x|', '5*1/x'}),\n",
       " frozenset({'7*1/x'}),\n",
       " frozenset({'3*x^2', '9*sin(x)'}),\n",
       " frozenset({'4*1/x', '6*x^2'}),\n",
       " frozenset({'6'}),\n",
       " frozenset({'7*x^2'}),\n",
       " frozenset({'2*x^2+7*x+9', '4*|x|+7', '7*1/x'}),\n",
       " frozenset({'2*1/x', '2*x+3*1/x'}),\n",
       " frozenset({'2*sin(x)'}),\n",
       " frozenset({'4*sin(x)', '9*x'}),\n",
       " frozenset({'2*sin(x)', '9*x^2+2*x', '9*|x|+5*x'}),\n",
       " frozenset({'1*sin(x)+4*1/x', '4*1/x'}),\n",
       " frozenset({'4*1/x', '6*x^2+4*1/x'}),\n",
       " frozenset({'2*|x|', '7*sin(x)'}),\n",
       " frozenset({'1', '4*|x|'})}"
      ]
     },
     "execution_count": 3,
     "metadata": {},
     "output_type": "execute_result"
    }
   ],
   "source": [
    "# Get all previous hand made functions\n",
    "hand_mand_functions = {'round1':[]} # Each round is consist of 20 puzzles\n",
    "for item in Function_operator_puzzles['Level1'].items():\n",
    "    function_list = item[1]['Space_items']['Puzzle room'][0]['Special_label'].split(',')[1:]\n",
    "    function_list = [i.replace(' ','') for i in function_list]\n",
    "    function_list = frozenset(function_list)\n",
    "    hand_mand_functions['round1'].append(function_list)\n",
    "def get_all_existing_functions(function_dict):\n",
    "    all_functions = []\n",
    "    for item in function_dict.items():\n",
    "        all_functions.extend(item[1])\n",
    "    print(f'Currently there are {len(set(all_functions))} unique function combinations')\n",
    "    return set(all_functions)\n",
    "get_all_existing_functions(hand_mand_functions)"
   ]
  },
  {
   "cell_type": "code",
   "execution_count": 4,
   "id": "d4de4877",
   "metadata": {},
   "outputs": [],
   "source": [
    "def pick_difficult_puzzle(round_index, start_seed, all_puzzle_dict, difficulty_parameter_list, difficulty_name):\n",
    "    difficulty_1_puzzle_count = 0\n",
    "    difficulty_1_puzzle_number = difficulty_parameter_list[4]\n",
    "    while difficulty_1_puzzle_count < difficulty_1_puzzle_number:\n",
    "        num_function = difficulty_parameter_list[0]\n",
    "        num_unknown_parameter = difficulty_parameter_list[1]\n",
    "        avg_term_per_function = difficulty_parameter_list[2]\n",
    "        number_of_elementary_function = difficulty_parameter_list[3]\n",
    "        functions = generate_random_function(num_function,\n",
    "                                             avg_term_per_function,\n",
    "                                             number_of_elementary_function,\n",
    "                                             num_unknown_parameter,\n",
    "                                             random_seed = start_seed)\n",
    "        # check if generated function already exist\n",
    "        if functions is None:\n",
    "            start_seed += 1\n",
    "            continue\n",
    "        function = frozenset(functions[0])\n",
    "        all_functions = get_all_existing_functions(all_puzzle_dict)\n",
    "        if function not in all_functions and function is not None:\n",
    "            print(function,f'This is a difficulty {difficulty_name} puzzle')\n",
    "            add_bool = int(input('Input 1 if you want this puzzle, Input 0 if you want to drop this puzzle'))\n",
    "            if add_bool == 1:\n",
    "                all_puzzle_dict[f'round{round_index}'].append(function)\n",
    "                difficulty_1_puzzle_count += 1 \n",
    "        start_seed += 1\n",
    "def generate_new_round_functions(round_index, start_seed, all_puzzle_dict):\n",
    "    random.seed(start_seed)\n",
    "    random_seed = start_seed\n",
    "    all_puzzle_dict[f'round{round_index}'] = []\n",
    "    # start generate difficulty_1 puzzles:\n",
    "    puzzle_generate_parameters = [1,1,1,1,5] # No. functions, No. unknown parameters, Avg tem per function, No. elementary functions, Total puzzles_needed\n",
    "    pick_difficult_puzzle(round_index, start_seed, all_puzzle_dict,puzzle_generate_parameters, 1)\n",
    "    puzzle_generate_parameters = [2,2,1,2,5] # No. functions, No. unknown parameters, Avg tem per function, No. elementary functions, Total puzzles_needed\n",
    "    pick_difficult_puzzle(round_index, start_seed, all_puzzle_dict,puzzle_generate_parameters, 2)\n",
    "    puzzle_generate_parameters = [2,2,1.5,2,5] # No. functions, No. unknown parameters, Avg tem per function, No. elementary functions, Total puzzles_needed\n",
    "    pick_difficult_puzzle(round_index, start_seed, all_puzzle_dict,puzzle_generate_parameters, 3)\n",
    "    puzzle_generate_parameters = [3,3,5/3,4,3] # No. functions, No. unknown parameters, Avg tem per function, No. elementary functions, Total puzzles_needed\n",
    "    pick_difficult_puzzle(round_index, start_seed, all_puzzle_dict,puzzle_generate_parameters, 4)\n",
    "    puzzle_generate_parameters = [3,4,2,5,2] # No. functions, No. unknown parameters, Avg tem per function, No. elementary functions, Total puzzles_needed\n",
    "    pick_difficult_puzzle(round_index, start_seed, all_puzzle_dict,puzzle_generate_parameters, 5)"
   ]
  },
  {
   "cell_type": "markdown",
   "id": "0692c577",
   "metadata": {},
   "source": [
    "| Puzzle ID    | No. of Functions | No. of Unknown Parameters | Total   No. term| No. of Elementary Functions |\n",
    "|--------------|------------------|---------------------------|-----------------|-----------------------------|\n",
    "| 1–25   5+(20)| 1                | 1                         | 1               | 1                           |\n",
    "| 26–50  5+(20)| 2                | 2                         | 2               | 2                           |\n",
    "| 51–75  5+(20)| 2                | 2                         | 3               | 2                           |\n",
    "| 76–100 3+(12)| 3                | 3                         | 5               | 4                           |\n",
    "| 76–100 2+(8) | 3                | 4                         | 6               | 5                           |"
   ]
  },
  {
   "cell_type": "code",
   "execution_count": null,
   "id": "c06e71a0",
   "metadata": {},
   "outputs": [],
   "source": [
    "generate_new_round_functions(2, 0, hand_mand_functions)"
   ]
  },
  {
   "cell_type": "code",
   "execution_count": null,
   "id": "269a4acc",
   "metadata": {},
   "outputs": [],
   "source": [
    "generate_new_round_functions(3, 1000, hand_mand_functions)"
   ]
  },
  {
   "cell_type": "code",
   "execution_count": null,
   "id": "8d5ae843",
   "metadata": {},
   "outputs": [],
   "source": [
    "generate_new_round_functions(4, 2000, hand_mand_functions)"
   ]
  },
  {
   "cell_type": "code",
   "execution_count": null,
   "id": "f9ca9f23",
   "metadata": {},
   "outputs": [],
   "source": [
    "generate_new_round_functions(5, 3000, hand_mand_functions)"
   ]
  },
  {
   "cell_type": "code",
   "execution_count": 13,
   "id": "43ca376c",
   "metadata": {},
   "outputs": [
    {
     "data": {
      "text/plain": [
       "{'round1': [frozenset({'6'}),\n",
       "  frozenset({'1*x'}),\n",
       "  frozenset({'2*sin(x)'}),\n",
       "  frozenset({'7*x^2'}),\n",
       "  frozenset({'7*1/x'}),\n",
       "  frozenset({'1', '4*|x|'}),\n",
       "  frozenset({'2*|x|', '7*sin(x)'}),\n",
       "  frozenset({'3*x^2', '9*sin(x)'}),\n",
       "  frozenset({'4*sin(x)', '9*x'}),\n",
       "  frozenset({'4*1/x', '6*x^2'}),\n",
       "  frozenset({'4*1/x', '6*x^2+4*1/x'}),\n",
       "  frozenset({'1*sin(x)+5*x', '1*|x|', '5*1/x'}),\n",
       "  frozenset({'1*sin(x)+4*1/x', '4*1/x'}),\n",
       "  frozenset({'2*1/x', '2*x+3*1/x'}),\n",
       "  frozenset({'6*sin(x)+9*x^2', '9'}),\n",
       "  frozenset({'1*sin(x)+2*1/x', '2*x^2+3*1/x', '3'}),\n",
       "  frozenset({'2*sin(x)', '9*x^2+2*x', '9*|x|+5*x'}),\n",
       "  frozenset({'3*x+2', '4*sin(x)+2*1/x+3', '4*x^2'}),\n",
       "  frozenset({'2*x^2+7*x+9', '4*|x|+7', '7*1/x'}),\n",
       "  frozenset({'2*x+4', '2*x^2+7*x+9', '9*sin(x)'})],\n",
       " 'round2': [frozenset({'2*x'}),\n",
       "  frozenset({'1*x^2'}),\n",
       "  frozenset({'5*1/x'}),\n",
       "  frozenset({'2*x^2'}),\n",
       "  frozenset({'6*-x'}),\n",
       "  frozenset({'1*-x', '7*x^2'}),\n",
       "  frozenset({'2*1/x', '5*x'}),\n",
       "  frozenset({'3*x', '9*1/x'}),\n",
       "  frozenset({'2*|x|', '7*x'}),\n",
       "  frozenset({'1*1/x', '6*|x|'}),\n",
       "  frozenset({'1*-x', '7*x^2+1*-x'}),\n",
       "  frozenset({'2*1/x+5*x', '5*x'}),\n",
       "  frozenset({'9*x^2', '9+2*x^2'}),\n",
       "  frozenset({'1*|x|', '7*|x|+1*x'}),\n",
       "  frozenset({'3*|x|+7*x', '7*x'}),\n",
       "  frozenset({'2*1/x', '2+7*x', '8*|x|+7*x'}),\n",
       "  frozenset({'3*sin(x)+6*1/x', '9*x^2', '9+6*1/x'}),\n",
       "  frozenset({'8*sin(x)+9*x^2', '8*x^2', '9*1/x+6*x'}),\n",
       "  frozenset({'2*|x|+1*1/x', '4*sin(x)+8', '4*x+2*sin(x)'}),\n",
       "  frozenset({'1*x+1*x^2+9*1/x', '2*1/x+9', '6*-x'})],\n",
       " 'round3': [frozenset({'9*-x'}),\n",
       "  frozenset({'2*-x'}),\n",
       "  frozenset({'1*|x|'}),\n",
       "  frozenset({'8*1/x'}),\n",
       "  frozenset({'4*sin(x)'}),\n",
       "  frozenset({'2*x^2', '7*-x'}),\n",
       "  frozenset({'4*1/x', '7*x^2'}),\n",
       "  frozenset({'4*1/x', '6*-x'}),\n",
       "  frozenset({'7*-x', '9*x^2'}),\n",
       "  frozenset({'2*-x', '6*1/x'}),\n",
       "  frozenset({'2*-x+7*x^2', '7*x^2'}),\n",
       "  frozenset({'4*1/x', '4*1/x+6*-x'}),\n",
       "  frozenset({'4+9*-x', '9*-x'}),\n",
       "  frozenset({'7*x^2', '9*-x+9*x^2'}),\n",
       "  frozenset({'6*1/x', '6*1/x+2*-x'}),\n",
       "  frozenset({'8*-x', '8*x^2+9*x', '9*1/x+3*x'}),\n",
       "  frozenset({'4*x+9*1/x+4', '7*1/x', '7*sin(x)'}),\n",
       "  frozenset({'1*-x+3*x', '4*-x', '4*|x|+3*sin(x)'}),\n",
       "  frozenset({'4*sin(x)+5*1/x', '4*x+8*-x', '9*1/x+5*|x|'}),\n",
       "  frozenset({'1*-x', '6*sin(x)+1*x+9', '9+7*1/x'})],\n",
       " 'round4': [frozenset({'1*-x'}),\n",
       "  frozenset({'1*1/x'}),\n",
       "  frozenset({'1*sin(x)'}),\n",
       "  frozenset({'9*x'}),\n",
       "  frozenset({'3*|x|'}),\n",
       "  frozenset({'1*1/x', '2*-x'}),\n",
       "  frozenset({'2*sin(x)', '7*x'}),\n",
       "  frozenset({'2*x', '7*1/x'}),\n",
       "  frozenset({'3*|x|', '7*sin(x)'}),\n",
       "  frozenset({'4*-x', '8*x'}),\n",
       "  frozenset({'4*1/x+6', '6*1/x'}),\n",
       "  frozenset({'2*sin(x)', '7*x+2*sin(x)'}),\n",
       "  frozenset({'2*x+2*1/x', '7*1/x'}),\n",
       "  frozenset({'4*x', '4*x+8*-x'}),\n",
       "  frozenset({'4*x^2', '5*1/x+4*x^2'}),\n",
       "  frozenset({'3*|x|', '7+7*-x+9', '9*x^2'}),\n",
       "  frozenset({'4*-x+6+8*sin(x)', '6*-x', '8*x^2'}),\n",
       "  frozenset({'1*x^2', '3*x^2', '5*x+3*1/x+5*|x|'}),\n",
       "  frozenset({'5*|x|+3+1*sin(x)', '9*-x', '9*1/x+1*|x|'}),\n",
       "  frozenset({'2*x+6*x^2', '2*x^2', '8*-x+6+9*1/x'})],\n",
       " 'round5': [frozenset({'3*sin(x)'}),\n",
       "  frozenset({'8*|x|'}),\n",
       "  frozenset({'8*-x'}),\n",
       "  frozenset({'9*sin(x)'}),\n",
       "  frozenset({'4*|x|'}),\n",
       "  frozenset({'2*sin(x)', '5*x'}),\n",
       "  frozenset({'3*sin(x)', '8*|x|'}),\n",
       "  frozenset({'1*x', '7*sin(x)'}),\n",
       "  frozenset({'4*-x', '5*1/x'}),\n",
       "  frozenset({'2*x^2', '4*-x'}),\n",
       "  frozenset({'3*sin(x)', '3*sin(x)+8*|x|'}),\n",
       "  frozenset({'1*sin(x)+1*x', '7*x'}),\n",
       "  frozenset({'4*-x', '4*x^2+2*-x'}),\n",
       "  frozenset({'2*x^2+9*sin(x)', '9*sin(x)'}),\n",
       "  frozenset({'7*sin(x)+7*|x|', '8*|x|'}),\n",
       "  frozenset({'4*-x+3*|x|', '4*sin(x)+3*|x|', '6*x'}),\n",
       "  frozenset({'1*-x+3*1/x', '1*|x|+3*x', '9*1/x'}),\n",
       "  frozenset({'1*-x', '9*x', '9+2*x^2+1*-x'}),\n",
       "  frozenset({'3*sin(x)+4*x', '3*|x|', '5*1/x+6*-x+4*x'}),\n",
       "  frozenset({'1+8*sin(x)', '6*1/x+6*-x+8*x', '7*x'})]}"
      ]
     },
     "execution_count": 13,
     "metadata": {},
     "output_type": "execute_result"
    }
   ],
   "source": [
    "import pickle\n",
    "\n",
    "# with open('Function_operator_puzzle_functions.pkl', 'wb') as file:\n",
    "#     pickle.dump(hand_mand_functions, file)"
   ]
  },
  {
   "cell_type": "markdown",
   "id": "3fd78f29",
   "metadata": {},
   "source": [
    "# Escape room"
   ]
  },
  {
   "cell_type": "code",
   "execution_count": 3,
   "id": "2f7d34f3",
   "metadata": {},
   "outputs": [],
   "source": [
    "# Make sure at least one paintings for each type\n",
    "All_paintings = {\n",
    "    'oil':{'Blue': [44,49,50,51],\n",
    "           'Yellow': [45,47],\n",
    "           'Black': [46],\n",
    "           'Green': [48]},\n",
    "    'acrylic': {'Blue':[56,57],\n",
    "                'Yellow':[53],\n",
    "                'Black':[52],\n",
    "                'Green':[54,55]},\n",
    "    'watercolor': {'Blue': [60,61,62],\n",
    "                   'Yellow':[58],\n",
    "                   'Green':[59],\n",
    "                   'Black':[]}\n",
    "}\n",
    "\n",
    "existing_combination = {'round1':[]}\n",
    "for i in range(1,11):\n",
    "    paints = Art_gallery_puzzles['Level1'][f'puzzle{i}']['Space_items']['Corridor'][1:]\n",
    "    existing_combination['round1'].append(frozenset(paints))\n",
    "    \n",
    "def get_all_combination_paintings(all_paint_dict):\n",
    "    all_paints = []\n",
    "    for item in existing_combination.items():\n",
    "        all_paints.extend(item[1])\n",
    "    return set(all_paints)\n",
    "\n",
    "# 40 remaining\n",
    "# select 3 from each type first\n",
    "def random_select_paints(existing_combination, all_paints_needed, round_index, random_seed):\n",
    "    random.seed(random_seed)\n",
    "    select_paints = []\n",
    "    oil_paints = []\n",
    "    for color in All_paintings['oil']:\n",
    "        oil_paints.extend(All_paintings['oil'][color])\n",
    "    random_index = random.sample(list(range(len(oil_paints))),1)[0]\n",
    "    select_paints.append(oil_paints.pop(random_index))\n",
    "\n",
    "    acrylic_paints = []\n",
    "    for color in All_paintings['acrylic']:\n",
    "        acrylic_paints.extend(All_paintings['acrylic'][color])\n",
    "    random_index = random.sample(list(range(len(acrylic_paints))),1)[0]\n",
    "    select_paints.append(acrylic_paints.pop(random_index))\n",
    "\n",
    "    watercolor_paints = []\n",
    "    for color in All_paintings['watercolor']:\n",
    "        watercolor_paints.extend(All_paintings['watercolor'][color])\n",
    "    random_index = random.sample(list(range(len(watercolor_paints))),1)[0]\n",
    "    select_paints.append(watercolor_paints.pop(random_index))\n",
    "    \n",
    "    remaining_paints = []\n",
    "    remaining_paints.extend(oil_paints)\n",
    "    remaining_paints.extend(acrylic_paints)\n",
    "    remaining_paints.extend(watercolor_paints)\n",
    "    select_paints.extend(random.sample(remaining_paints, all_paints_needed-3))\n",
    "    if frozenset(select_paints) not in get_all_combination_paintings(existing_combination):\n",
    "        existing_combination[f'round{round_index}'].append(frozenset(select_paints))\n",
    "        return 1\n",
    "    else:\n",
    "        print('Generated combination already exist, please change a seed')\n",
    "        return 0"
   ]
  },
  {
   "cell_type": "code",
   "execution_count": 5,
   "id": "cb37d2f1",
   "metadata": {},
   "outputs": [
    {
     "data": {
      "text/plain": [
       "{'round1': [frozenset({50, 56, 59}),\n",
       "  frozenset({47, 50, 54, 58, 61}),\n",
       "  frozenset({48, 49, 53, 57, 61, 62}),\n",
       "  frozenset({45, 47, 49, 51, 55, 56, 62}),\n",
       "  frozenset({50, 52, 54, 55, 57, 60, 61, 62}),\n",
       "  frozenset({44, 48, 49, 53, 56, 57, 59, 60, 62}),\n",
       "  frozenset({45, 49, 51, 52, 53, 55, 56, 58, 61, 62}),\n",
       "  frozenset({45, 47, 49, 53, 54, 55, 56, 57, 58, 60, 62}),\n",
       "  frozenset({44, 46, 49, 50, 52, 53, 55, 56, 57, 58, 61, 62}),\n",
       "  frozenset({44, 47, 48, 50, 51, 52, 53, 57, 58, 59, 60, 61, 62})]}"
      ]
     },
     "execution_count": 5,
     "metadata": {},
     "output_type": "execute_result"
    }
   ],
   "source": [
    "existing_combination"
   ]
  },
  {
   "cell_type": "code",
   "execution_count": 6,
   "id": "0c64f8ba",
   "metadata": {},
   "outputs": [],
   "source": [
    "round_index = 2\n",
    "num_paints = [3,5,6,7,8,9,10,11,12,13]\n",
    "start_seed = 0\n",
    "existing_combination[f'round{round_index}'] = []\n",
    "for i in num_paints:\n",
    "    success_status = random_select_paints(existing_combination, i, round_index, start_seed)\n",
    "    start_seed += 1\n",
    "    while success_status == 0:\n",
    "        success_status = random_select_paints(existing_combination, i, round_index, start_seed)\n",
    "        start_seed += 1"
   ]
  },
  {
   "cell_type": "code",
   "execution_count": 7,
   "id": "77b860b3",
   "metadata": {},
   "outputs": [],
   "source": [
    "round_index = 3\n",
    "num_paints = [3,5,6,7,8,9,10,11,12,13]\n",
    "start_seed = 1000\n",
    "existing_combination[f'round{round_index}'] = []\n",
    "for i in num_paints:\n",
    "    success_status = random_select_paints(existing_combination, i, round_index, start_seed)\n",
    "    start_seed += 1\n",
    "    while success_status == 0:\n",
    "        success_status = random_select_paints(round)\n",
    "        start_seed += 1"
   ]
  },
  {
   "cell_type": "code",
   "execution_count": 8,
   "id": "d85fcd0a",
   "metadata": {},
   "outputs": [],
   "source": [
    "round_index = 4\n",
    "num_paints = [3,5,6,7,8,9,10,11,12,13]\n",
    "start_seed = 2000\n",
    "existing_combination[f'round{round_index}'] = []\n",
    "for i in num_paints:\n",
    "    success_status = random_select_paints(existing_combination, i, round_index, start_seed)\n",
    "    start_seed += 1\n",
    "    while success_status == 0:\n",
    "        success_status = random_select_paints(round)\n",
    "        start_seed += 1"
   ]
  },
  {
   "cell_type": "code",
   "execution_count": 9,
   "id": "4d80372c",
   "metadata": {},
   "outputs": [],
   "source": [
    "round_index = 5\n",
    "num_paints = [3,5,6,7,8,9,10,11,12,13]\n",
    "start_seed = 3000\n",
    "existing_combination[f'round{round_index}'] = []\n",
    "for i in num_paints:\n",
    "    success_status = random_select_paints(existing_combination, i, round_index, start_seed)\n",
    "    start_seed += 1\n",
    "    while success_status == 0:\n",
    "        success_status = random_select_paints(round)\n",
    "        start_seed += 1"
   ]
  },
  {
   "cell_type": "code",
   "execution_count": 11,
   "id": "7098ad92",
   "metadata": {},
   "outputs": [
    {
     "data": {
      "text/plain": [
       "{'round1': [frozenset({50, 56, 59}),\n",
       "  frozenset({47, 50, 54, 58, 61}),\n",
       "  frozenset({48, 49, 53, 57, 61, 62}),\n",
       "  frozenset({45, 47, 49, 51, 55, 56, 62}),\n",
       "  frozenset({50, 52, 54, 55, 57, 60, 61, 62}),\n",
       "  frozenset({44, 48, 49, 53, 56, 57, 59, 60, 62}),\n",
       "  frozenset({45, 49, 51, 52, 53, 55, 56, 58, 61, 62}),\n",
       "  frozenset({45, 47, 49, 53, 54, 55, 56, 57, 58, 60, 62}),\n",
       "  frozenset({44, 46, 49, 50, 52, 53, 55, 56, 57, 58, 61, 62}),\n",
       "  frozenset({44, 47, 48, 50, 51, 52, 53, 57, 58, 59, 60, 61, 62})],\n",
       " 'round2': [frozenset({46, 52, 60}),\n",
       "  frozenset({49, 50, 54, 57, 60}),\n",
       "  frozenset({44, 51, 55, 56, 60, 62}),\n",
       "  frozenset({46, 47, 51, 53, 54, 56, 59}),\n",
       "  frozenset({49, 50, 51, 53, 56, 59, 60, 61}),\n",
       "  frozenset({44, 45, 51, 52, 55, 56, 60, 61, 62}),\n",
       "  frozenset({44, 46, 49, 50, 51, 52, 53, 54, 56, 62}),\n",
       "  frozenset({44, 46, 47, 49, 52, 53, 57, 58, 59, 61, 62}),\n",
       "  frozenset({44, 45, 47, 49, 50, 51, 52, 53, 55, 57, 58, 62}),\n",
       "  frozenset({44, 47, 48, 49, 50, 52, 54, 56, 57, 58, 59, 61, 62})],\n",
       " 'round3': [frozenset({46, 55, 60}),\n",
       "  frozenset({44, 57, 59, 60, 61}),\n",
       "  frozenset({45, 46, 56, 57, 59, 61}),\n",
       "  frozenset({48, 54, 55, 56, 59, 61, 62}),\n",
       "  frozenset({46, 48, 51, 56, 59, 60, 61, 62}),\n",
       "  frozenset({45, 47, 48, 52, 53, 54, 59, 61, 62}),\n",
       "  frozenset({44, 46, 47, 51, 52, 54, 56, 58, 59, 61}),\n",
       "  frozenset({44, 45, 49, 51, 53, 54, 55, 57, 58, 60, 61}),\n",
       "  frozenset({44, 47, 48, 49, 50, 51, 52, 53, 54, 55, 60, 62}),\n",
       "  frozenset({44, 45, 47, 50, 51, 52, 53, 55, 56, 57, 58, 59, 61})],\n",
       " 'round4': [frozenset({48, 56, 58}),\n",
       "  frozenset({44, 51, 53, 54, 60}),\n",
       "  frozenset({44, 45, 47, 54, 58, 62}),\n",
       "  frozenset({47, 49, 52, 55, 56, 59, 62}),\n",
       "  frozenset({44, 50, 52, 53, 54, 55, 57, 61}),\n",
       "  frozenset({46, 48, 49, 51, 54, 56, 57, 59, 60}),\n",
       "  frozenset({46, 49, 51, 53, 54, 56, 58, 59, 60, 61}),\n",
       "  frozenset({46, 50, 51, 52, 53, 54, 55, 57, 59, 60, 62}),\n",
       "  frozenset({44, 45, 46, 48, 50, 51, 53, 54, 55, 58, 60, 61}),\n",
       "  frozenset({44, 45, 46, 47, 48, 49, 50, 54, 55, 56, 58, 59, 60})],\n",
       " 'round5': [frozenset({50, 53, 60}),\n",
       "  frozenset({45, 46, 47, 55, 58}),\n",
       "  frozenset({44, 51, 54, 55, 58, 59}),\n",
       "  frozenset({44, 48, 53, 55, 57, 60, 61}),\n",
       "  frozenset({44, 48, 50, 52, 54, 55, 61, 62}),\n",
       "  frozenset({44, 45, 49, 50, 52, 55, 58, 59, 62}),\n",
       "  frozenset({45, 49, 52, 53, 54, 55, 57, 60, 61, 62}),\n",
       "  frozenset({45, 46, 47, 48, 49, 51, 52, 54, 56, 58, 59}),\n",
       "  frozenset({45, 46, 48, 49, 52, 53, 54, 55, 59, 60, 61, 62}),\n",
       "  frozenset({44, 45, 46, 48, 50, 51, 52, 53, 54, 56, 60, 61, 62})]}"
      ]
     },
     "execution_count": 11,
     "metadata": {},
     "output_type": "execute_result"
    }
   ],
   "source": [
    "existing_combination"
   ]
  },
  {
   "cell_type": "code",
   "execution_count": 13,
   "id": "81b19991",
   "metadata": {},
   "outputs": [
    {
     "data": {
      "text/plain": [
       "{'round1': [frozenset({50, 56, 59}),\n",
       "  frozenset({47, 50, 54, 58, 61}),\n",
       "  frozenset({48, 49, 53, 57, 61, 62}),\n",
       "  frozenset({45, 47, 49, 51, 55, 56, 62}),\n",
       "  frozenset({50, 52, 54, 55, 57, 60, 61, 62}),\n",
       "  frozenset({44, 48, 49, 53, 56, 57, 59, 60, 62}),\n",
       "  frozenset({45, 49, 51, 52, 53, 55, 56, 58, 61, 62}),\n",
       "  frozenset({45, 47, 49, 53, 54, 55, 56, 57, 58, 60, 62}),\n",
       "  frozenset({44, 46, 49, 50, 52, 53, 55, 56, 57, 58, 61, 62}),\n",
       "  frozenset({44, 47, 48, 50, 51, 52, 53, 57, 58, 59, 60, 61, 62})],\n",
       " 'round2': [frozenset({46, 52, 60}),\n",
       "  frozenset({49, 50, 54, 57, 60}),\n",
       "  frozenset({44, 51, 55, 56, 60, 62}),\n",
       "  frozenset({46, 47, 51, 53, 54, 56, 59}),\n",
       "  frozenset({49, 50, 51, 53, 56, 59, 60, 61}),\n",
       "  frozenset({44, 45, 51, 52, 55, 56, 60, 61, 62}),\n",
       "  frozenset({44, 46, 49, 50, 51, 52, 53, 54, 56, 62}),\n",
       "  frozenset({44, 46, 47, 49, 52, 53, 57, 58, 59, 61, 62}),\n",
       "  frozenset({44, 45, 47, 49, 50, 51, 52, 53, 55, 57, 58, 62}),\n",
       "  frozenset({44, 47, 48, 49, 50, 52, 54, 56, 57, 58, 59, 61, 62})],\n",
       " 'round3': [frozenset({46, 55, 60}),\n",
       "  frozenset({44, 57, 59, 60, 61}),\n",
       "  frozenset({45, 46, 56, 57, 59, 61}),\n",
       "  frozenset({48, 54, 55, 56, 59, 61, 62}),\n",
       "  frozenset({46, 48, 51, 56, 59, 60, 61, 62}),\n",
       "  frozenset({45, 47, 48, 52, 53, 54, 59, 61, 62}),\n",
       "  frozenset({44, 46, 47, 51, 52, 54, 56, 58, 59, 61}),\n",
       "  frozenset({44, 45, 49, 51, 53, 54, 55, 57, 58, 60, 61}),\n",
       "  frozenset({44, 47, 48, 49, 50, 51, 52, 53, 54, 55, 60, 62}),\n",
       "  frozenset({44, 45, 47, 50, 51, 52, 53, 55, 56, 57, 58, 59, 61})],\n",
       " 'round4': [frozenset({48, 56, 58}),\n",
       "  frozenset({44, 51, 53, 54, 60}),\n",
       "  frozenset({44, 45, 47, 54, 58, 62}),\n",
       "  frozenset({47, 49, 52, 55, 56, 59, 62}),\n",
       "  frozenset({44, 50, 52, 53, 54, 55, 57, 61}),\n",
       "  frozenset({46, 48, 49, 51, 54, 56, 57, 59, 60}),\n",
       "  frozenset({46, 49, 51, 53, 54, 56, 58, 59, 60, 61}),\n",
       "  frozenset({46, 50, 51, 52, 53, 54, 55, 57, 59, 60, 62}),\n",
       "  frozenset({44, 45, 46, 48, 50, 51, 53, 54, 55, 58, 60, 61}),\n",
       "  frozenset({44, 45, 46, 47, 48, 49, 50, 54, 55, 56, 58, 59, 60})],\n",
       " 'round5': [frozenset({50, 53, 60}),\n",
       "  frozenset({45, 46, 47, 55, 58}),\n",
       "  frozenset({44, 51, 54, 55, 58, 59}),\n",
       "  frozenset({44, 48, 53, 55, 57, 60, 61}),\n",
       "  frozenset({44, 48, 50, 52, 54, 55, 61, 62}),\n",
       "  frozenset({44, 45, 49, 50, 52, 55, 58, 59, 62}),\n",
       "  frozenset({45, 49, 52, 53, 54, 55, 57, 60, 61, 62}),\n",
       "  frozenset({45, 46, 47, 48, 49, 51, 52, 54, 56, 58, 59}),\n",
       "  frozenset({45, 46, 48, 49, 52, 53, 54, 55, 59, 60, 61, 62}),\n",
       "  frozenset({44, 45, 46, 48, 50, 51, 52, 53, 54, 56, 60, 61, 62})]}"
      ]
     },
     "execution_count": 13,
     "metadata": {},
     "output_type": "execute_result"
    }
   ],
   "source": [
    "import pickle\n",
    "\n",
    "# with open('Escape_room_puzzle_paints.pkl', 'wb') as file:\n",
    "#     pickle.dump(existing_combination, file)\n",
    "\n",
    "with open('Escape_room_puzzle_paints.pkl', 'rb') as file:\n",
    "    existing_combination = pickle.load(file)\n",
    "existing_combination"
   ]
  },
  {
   "cell_type": "markdown",
   "id": "de13ec28",
   "metadata": {},
   "source": [
    "# Reactor"
   ]
  },
  {
   "cell_type": "code",
   "execution_count": 49,
   "id": "877c4619",
   "metadata": {},
   "outputs": [
    {
     "data": {
      "text/plain": [
       "{'round1': ['ACB', 'CCADD', 'CADEA', 'ABCDEF', 'FEADE']}"
      ]
     },
     "execution_count": 49,
     "metadata": {},
     "output_type": "execute_result"
    }
   ],
   "source": [
    "hand_made_strings = {'round1':[]}\n",
    "for puzzle_index in range(1,6):\n",
    "    target_string = Reactor_puzzles['Level1'][f'puzzle{puzzle_index}']['Space_items']['Chemical laboratory'][1]['Special_label']\n",
    "    hand_made_strings['round1'].append(target_string)\n",
    "hand_made_strings\n",
    "def get_all_strings(all_string_dict):\n",
    "    all_string = []\n",
    "    for item in all_string_dict.items():\n",
    "        all_string.extend(item[1])\n",
    "    return set(all_string)\n",
    "hand_made_strings"
   ]
  },
  {
   "cell_type": "code",
   "execution_count": 50,
   "id": "e061475f",
   "metadata": {},
   "outputs": [],
   "source": [
    "def generate_random_strings(hand_made_strings, start_seed, round_index):\n",
    "    hand_made_strings[f'round{round_index}'] = []\n",
    "    string_len = [3,5,5,5,6]\n",
    "    elemental_letter = ['A', 'B', 'C', 'D', 'E', 'F']\n",
    "    example_string = ['CAB', 'BCA', 'CBA', 'AAA', 'BDAC'] # These samples are used in the prompt as examples\n",
    "    for cur_string_len in string_len:\n",
    "        random.seed(start_seed)\n",
    "        generated_string = ''.join(random.choices(elemental_letter,k=cur_string_len))\n",
    "        start_seed += 1\n",
    "        while generated_string in get_all_strings(hand_made_strings):\n",
    "            print(f'{generated_string} already exist')\n",
    "            random.seed(start_seed)\n",
    "            generated_string = ''.join(random.choices(elemental_letter,k=cur_string_len))\n",
    "            start_seed += 1\n",
    "        hand_made_strings[f'round{round_index}'].append(generated_string)\n",
    "            "
   ]
  },
  {
   "cell_type": "code",
   "execution_count": 51,
   "id": "7a08c58a",
   "metadata": {},
   "outputs": [],
   "source": [
    "generate_random_strings(hand_made_strings, 0, 2)\n",
    "generate_random_strings(hand_made_strings, 1000, 3)\n",
    "generate_random_strings(hand_made_strings, 2000, 4)\n",
    "generate_random_strings(hand_made_strings, 3000, 5)"
   ]
  },
  {
   "cell_type": "code",
   "execution_count": 52,
   "id": "641b387c",
   "metadata": {},
   "outputs": [
    {
     "data": {
      "text/plain": [
       "{'round1': ['ACB', 'CCADD', 'CADEA', 'ABCDEF', 'FEADE'],\n",
       " 'round2': ['FEC', 'AFEBC', 'FFAAF', 'BDCDD', 'BACAAC'],\n",
       " 'round3': ['EEA', 'EAEFA', 'DCBAC', 'CCECC', 'CFDEDB'],\n",
       " 'round4': ['CFC', 'DCADF', 'EDEDF', 'AFEBE', 'DEBCED'],\n",
       " 'round5': ['DBB', 'BCCBB', 'BDCAC', 'DEEDF', 'CBAFDE']}"
      ]
     },
     "execution_count": 52,
     "metadata": {},
     "output_type": "execute_result"
    }
   ],
   "source": [
    "hand_made_strings = {'round1': ['ACB', 'CCADD', 'CADEA', 'ABCDEF', 'FEADE'],\n",
    " 'round2': ['FEC', 'AFEBC', 'FFAAF', 'BDCDD', 'BACAAC'],\n",
    " 'round3': ['EEA', 'EAEFA', 'DCBAC', 'CCECC', 'CFDEDB'],\n",
    " 'round4': ['CFC', 'DCADF', 'EDEDF', 'AFEBE', 'DEBCED'],\n",
    " 'round5': ['DBB', 'BCCBB', 'BDCAC', 'DEEDF', 'CBAFDE']}"
   ]
  },
  {
   "cell_type": "code",
   "execution_count": 1,
   "id": "35009f21",
   "metadata": {},
   "outputs": [
    {
     "data": {
      "text/plain": [
       "{'round1': ['ACB', 'CCADD', 'CADEA', 'FEADE', 'ABCDEF'],\n",
       " 'round2': ['FEC', 'AFEBC', 'FFAAF', 'BDCDD', 'BACAAC'],\n",
       " 'round3': ['EEA', 'EAEFA', 'DCBAC', 'CCECC', 'CFDEDB'],\n",
       " 'round4': ['CFC', 'DCADF', 'EDEDF', 'AFEBE', 'DEBCED'],\n",
       " 'round5': ['DBB', 'BCCBB', 'BDCAC', 'DEEDF', 'CBAFDE']}"
      ]
     },
     "execution_count": 1,
     "metadata": {},
     "output_type": "execute_result"
    }
   ],
   "source": [
    "import pickle\n",
    "\n",
    "# with open('Reactor_puzzle_strings.pkl', 'wb') as file:\n",
    "#     pickle.dump(hand_made_strings, file)\n",
    "\n",
    "with open('../data/Reactor_puzzle_strings.pkl', 'rb') as file:\n",
    "    hand_made_strings = pickle.load(file)\n",
    "    \n",
    "hand_made_strings"
   ]
  }
 ],
 "metadata": {
  "kernelspec": {
   "display_name": "Python 3 (ipykernel)",
   "language": "python",
   "name": "python3"
  },
  "language_info": {
   "codemirror_mode": {
    "name": "ipython",
    "version": 3
   },
   "file_extension": ".py",
   "mimetype": "text/x-python",
   "name": "python",
   "nbconvert_exporter": "python",
   "pygments_lexer": "ipython3",
   "version": "3.9.20"
  },
  "varInspector": {
   "cols": {
    "lenName": "20",
    "lenType": "20",
    "lenVar": 40
   },
   "kernels_config": {
    "python": {
     "delete_cmd_postfix": "",
     "delete_cmd_prefix": "del ",
     "library": "var_list.py",
     "varRefreshCmd": "print(var_dic_list())"
    },
    "r": {
     "delete_cmd_postfix": ") ",
     "delete_cmd_prefix": "rm(",
     "library": "var_list.r",
     "varRefreshCmd": "cat(var_dic_list()) "
    }
   },
   "types_to_exclude": [
    "module",
    "function",
    "builtin_function_or_method",
    "instance",
    "_Feature"
   ],
   "window_display": false
  }
 },
 "nbformat": 4,
 "nbformat_minor": 5
}
